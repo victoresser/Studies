{
 "cells": [
  {
   "attachments": {},
   "cell_type": "markdown",
   "metadata": {},
   "source": [
    "### Escreva um programa que some todos os itens de uma lista.\n",
    "\n",
    "1. Criar variável para receber valores (dict)\n",
    "2. Criar variável para armazenar quantidade de repetições do loop FOR\n",
    "3. Usar um loop FOR para alimentar nosso dict\n",
    "4. Chamar função para ler_itens() para fazer a soma dos valores no final"
   ]
  },
  {
   "cell_type": "code",
   "execution_count": 1,
   "metadata": {},
   "outputs": [
    {
     "name": "stdout",
     "output_type": "stream",
     "text": [
      "O item adicionado foi: Banana no valor de R$ 13.0\n",
      "O Valor total de todos os itens é R$ 13.00\n"
     ]
    }
   ],
   "source": [
    "def ler_itens():\n",
    "    lst = {}\n",
    "    num_itens = int(input(\"Quantos itens deseja informar? \"))\n",
    "    for i in range(num_itens):\n",
    "        item = input(f\"Informe o {i+1}º Item: \")\n",
    "        valor = float(input(f\"Informe o preço do item {i+1}: \"))\n",
    "        lst[item] = valor\n",
    "        print(f\"O item adicionado foi: {item} no valor de R$ {valor}\")\n",
    "    return lst\n",
    "\n",
    "lst_valores = ler_itens()\n",
    "soma = sum(lst_valores.values())\n",
    "print(f\"O Valor total de todos os itens é R$ {soma:.2f}\")\n"
   ]
  },
  {
   "attachments": {},
   "cell_type": "markdown",
   "metadata": {},
   "source": [
    "### Escreva um programa que multiplique todos os itnes de uma lista\n",
    "\n",
    "1. Criar variável para receber valores (dict)\n",
    "2. Criar variável para armazenar quantidade de repetições do loop FOR\n",
    "3. Usar um loop FOR para alimentar nosso dict\n",
    "4. Chamar função que lê as informações e faz a multiplicação dos valores"
   ]
  },
  {
   "cell_type": "code",
   "execution_count": 3,
   "metadata": {},
   "outputs": [
    {
     "name": "stdout",
     "output_type": "stream",
     "text": [
      "O item adicionado foi: Banana no valor de R$ 15.00\n",
      "O item adicionado foi: Morango no valor de R$ 12.50\n",
      "O valor total do cálculo é R$ 187.50\n"
     ]
    }
   ],
   "source": [
    "dict = {}\n",
    "numItems = int(input(\"Quantos itens deseja informar?\"))\n",
    "for i in range(numItems):\n",
    "    item = input(f\"Informe o {i+1}º Item:\")\n",
    "    valor = float(input(f\"Informe o preço do item {i+1}: \"))\n",
    "    dict[item] = valor\n",
    "    print(f\"O item adicionado foi: {item} no valor de R$ {valor:.2f}\")\n",
    "\n",
    "resultado = 1\n",
    "for valor in dict.values():\n",
    "    resultado *= valor\n",
    "\n",
    "print(f\"O valor total do cálculo é R$ {resultado:.2f}\")"
   ]
  },
  {
   "attachments": {},
   "cell_type": "markdown",
   "metadata": {},
   "source": [
    "### Escreva um programa que retorne o maior e o menor número de uma lista.\n",
    "1. Criar lista\n",
    "2. Criar variáveis para armazenar menor e maior valor\n",
    "3. Exibir na tela o resultado."
   ]
  },
  {
   "cell_type": "code",
   "execution_count": 1,
   "metadata": {},
   "outputs": [
    {
     "name": "stdout",
     "output_type": "stream",
     "text": [
      "O maior número é 5 e o menor é 1.\n"
     ]
    }
   ],
   "source": [
    "lista = [1, 2, 3, 4, 5]\n",
    "\n",
    "menor = min(lista)\n",
    "maior = max(lista)\n",
    "\n",
    "print(f\"O maior número é {maior} e o menor é {menor}.\")"
   ]
  },
  {
   "attachments": {},
   "cell_type": "markdown",
   "metadata": {},
   "source": [
    "### Escreva um programa que conte o número de caracteres de uma string (Exemplo: 'google.com' Resultado Esperado: {'o': 3,'g': 2,'.': 1,'e': 1,'l': 1,'m': 1,'c': 1})\n",
    "\n",
    "1. Crie uma variável com o texto sugerido.\n",
    "2. Crie uma variável para armazenar a contagem.\n",
    "3. Crie um loop FOR para verificar os caracteres.\n",
    "4. Exiba na tela o resultado"
   ]
  },
  {
   "cell_type": "code",
   "execution_count": 2,
   "metadata": {},
   "outputs": [
    {
     "name": "stdout",
     "output_type": "stream",
     "text": [
      "{'g': 2, 'o': 3, 'l': 1, 'e': 1, '.': 1, 'c': 1, 'm': 1}\n"
     ]
    }
   ],
   "source": [
    "texto = 'google.com'\n",
    "\n",
    "# Cria um dicionário vazio para armazenar a contagem de cada caractere\n",
    "contagem = {}\n",
    "\n",
    "# Percorre cada caractere na string\n",
    "for letra in texto:\n",
    "    # Se a letra ainda não está no dicionário, adiciona ela com contagem 0\n",
    "    if letra not in contagem:\n",
    "        contagem[letra] = 0\n",
    "    \n",
    "    # Incrementa a contagem da letra\n",
    "    contagem[letra] += 1\n",
    "\n",
    "# Imprime o resultado\n",
    "\n",
    "print(contagem)"
   ]
  },
  {
   "attachments": {},
   "cell_type": "markdown",
   "metadata": {},
   "source": [
    "### Escreva um programa que conte quantas string tenham tamanho maior que 2 e o primeiro e último caracteres sejam iguais. (Exemplo de lista: ['abc','xyz','aba','1221'] Resultado Esperado: 2)\n",
    "\n",
    "1. Criar lista com valores sugeridos\n",
    "2. Criar variável que armazene quantidade de strings\n",
    "3. Criar loop FOR para realizar verificação e contagem das strings"
   ]
  },
  {
   "cell_type": "code",
   "execution_count": null,
   "metadata": {},
   "outputs": [],
   "source": [
    "# Lista com valores sugeridos\n",
    "lista = ['abc', 'xyz', 'aba', '1221']\n",
    "# Variável para armazenar contagem\n",
    "count = 0\n",
    "\n",
    "# Loop para verificação de strings e contagem de letras.\n",
    "for palavra in lista:\n",
    "    if len(palavra) > 2 and palavra[0] == palavra[-1]:\n",
    "        count += 1\n",
    "\n",
    "# Exibindo o resultado\n",
    "print(f\"Existem {count} strings na lista com tamanho maior que 2 e o primeiro e último caracteres iguais.\")"
   ]
  },
  {
   "attachments": {},
   "cell_type": "markdown",
   "metadata": {},
   "source": [
    "### Escreva um programa que ordene em ordem crescente uma lista de tuplas informadas, pelo último item da tupla.\n",
    "1. Exemplo de lista: [(2, 5), (1, 2), (4, 4), (2, 3) (2, 1)]\n",
    "2. Resultado esperado: : [(2, 1), (1, 2), (2, 3), (4, 4), (2, 5)]\n",
    "\n"
   ]
  },
  {
   "cell_type": "code",
   "execution_count": 3,
   "metadata": {},
   "outputs": [
    {
     "name": "stdout",
     "output_type": "stream",
     "text": [
      "[(2, 1), (1, 2), (2, 3), (4, 4), (2, 5)]\n"
     ]
    }
   ],
   "source": [
    "lista = [(2, 5), (1, 2), (4, 4), (2, 3), (2, 1)]\n",
    "ordenado = sorted(lista, key=lambda tupla: tupla[-1])\n",
    "\n",
    "print(ordenado)\n"
   ]
  },
  {
   "attachments": {},
   "cell_type": "markdown",
   "metadata": {},
   "source": [
    "### Escreva um programa que adicione uma chave (key) a um dicionário. (Exemplo dicionário (Dict): {0: 10, 1: 20} Resultado esperado: {0: 10, 1: 20, 2: 30})\n",
    "\n",
    "1. Criar Dict com valores sugeridos"
   ]
  },
  {
   "cell_type": "code",
   "execution_count": 4,
   "metadata": {},
   "outputs": [
    {
     "name": "stdout",
     "output_type": "stream",
     "text": [
      "{0: 10, 1: 20, 2: 30}\n"
     ]
    }
   ],
   "source": [
    "# Criando o dicionário\n",
    "dicionario = {0: 10, 1: 20}\n",
    "\n",
    "# Adicionando uma chave ao dicionário\n",
    "dicionario[2] = 30\n",
    "\n",
    "# Exibindo o dicionário com a nova chave adicionada\n",
    "print(dicionario)"
   ]
  },
  {
   "attachments": {},
   "cell_type": "markdown",
   "metadata": {},
   "source": [
    "### Escreva um programa que concatene os dicionários abaixo e crie um novo.\n",
    "\n",
    "- Exemplo: Dicionário(Dict):\n",
    "  - dic1 = {1:10, 2:20}\n",
    "  - dic2 = {3:30, 4:40}\n",
    "  - dic3 = {5:50, 6:60}\n",
    "  \n",
    "- Resultado esperado: {1:10, 2:20, 3:30, 4:40, 5:50, 6:60}"
   ]
  },
  {
   "cell_type": "code",
   "execution_count": 9,
   "metadata": {},
   "outputs": [
    {
     "name": "stdout",
     "output_type": "stream",
     "text": [
      "Os dicionários foram adicionados ao dict principal: {1: 10, 2: 20, 3: 30, 4: 40, 5: 50, 6: 60}\n"
     ]
    }
   ],
   "source": [
    "# Dicionários definidos com valores padrões\n",
    "dic1 = {1:10, 2:20}\n",
    "dic2 = {3:30, 4:40}\n",
    "dic3 = {5:50, 6:60}\n",
    "\n",
    "dict = {}\n",
    "dict.update(dic1)\n",
    "dict.update(dic2)\n",
    "dict.update(dic3)\n",
    "\n",
    "print(f'Os dicionários foram adicionados ao dict principal: {dict}')\n"
   ]
  },
  {
   "attachments": {},
   "cell_type": "markdown",
   "metadata": {},
   "source": [
    "### Escreva um programa que leia chaves e valores, crie um dicionário, e depois, verifique se uma chave informada existe em um dicionário.\n",
    "\n",
    "1. Criar dict vazia\n",
    "2. Criar loop para informar valores\n",
    "3. Criar loop para verificar informações de dicts\n",
    "4. Exibir o resultado na tela"
   ]
  },
  {
   "cell_type": "code",
   "execution_count": 23,
   "metadata": {},
   "outputs": [
    {
     "name": "stdout",
     "output_type": "stream",
     "text": [
      "As chaves que se encontram no dict são {'Banana': 12.0, 'Morango': 11.0, 'Laranja': 7.0}\n",
      "A chave Laranja se encontra dentro do dicionário e seu valor é 7.0\n"
     ]
    }
   ],
   "source": [
    "# Criando Dict\n",
    "dict = {}\n",
    "# Variável para armazenar range do loop FOR\n",
    "numItems = int(input('Quando itens deseja informar?'))\n",
    "for i in range(numItems):\n",
    "    #  Variável que armazena a chave\n",
    "    chave = input(f'Informe a {i+1}ª chave: ')\n",
    "    # Variável que armazena o valor da chave\n",
    "    valor = float(input(f' Informe o {i+1} Valor: '))\n",
    "    # Armazenando valores nas chaves\n",
    "    dict[chave] = valor\n",
    "\n",
    "print(f'As chaves que se encontram no dict são {dict}')\n",
    "\n",
    "# Variável usada para verificar chave\n",
    "chave_verificar = input('Qual chave você quer verificar?')\n",
    "if chave_verificar in dict:\n",
    "    print(f'A chave {chave_verificar} se encontra dentro do dicionário e seu valor é {dict[chave_verificar]}')"
   ]
  },
  {
   "attachments": {},
   "cell_type": "markdown",
   "metadata": {},
   "source": [
    "### Escreva um programa que itere em um dicionário utilizando loops."
   ]
  },
  {
   "cell_type": "code",
   "execution_count": 24,
   "metadata": {},
   "outputs": [
    {
     "name": "stdout",
     "output_type": "stream",
     "text": [
      "a\n",
      "b\n",
      "c\n",
      "1\n",
      "2\n",
      "3\n",
      "a 1\n",
      "b 2\n",
      "c 3\n"
     ]
    }
   ],
   "source": [
    "dicionario = {'a': 1, 'b': 2, 'c': 3}\n",
    "\n",
    "# itera pelas chaves do dicionário\n",
    "for chave in dicionario:\n",
    "    print(chave)\n",
    "\n",
    "# itera pelos valores do dicionário\n",
    "for valor in dicionario.values():\n",
    "    print(valor)\n",
    "\n",
    "# itera pelas chaves e valores do dicionário\n",
    "for chave, valor in dicionario.items():\n",
    "    print(chave, valor)\n"
   ]
  },
  {
   "attachments": {},
   "cell_type": "markdown",
   "metadata": {},
   "source": [
    "### Escreva um programa que remova itens duplicados de uma lista"
   ]
  },
  {
   "cell_type": "code",
   "execution_count": 27,
   "metadata": {},
   "outputs": [
    {
     "name": "stdout",
     "output_type": "stream",
     "text": [
      "[1, 2, 3, 4, 5, 6]\n"
     ]
    }
   ],
   "source": [
    "# Criando listas\n",
    "lista = [1, 2, 3, 4, 5, 5, 6, 6]\n",
    "listaUnica = []\n",
    "\n",
    "# verificando itens da lista e adicionando apenas valores que não se repetem à nova lista.\n",
    "for i in lista:\n",
    "    if i not in listaUnica:\n",
    "        listaUnica.append(i)\n",
    "\n",
    "print(listaUnica)"
   ]
  },
  {
   "attachments": {},
   "cell_type": "markdown",
   "metadata": {},
   "source": [
    "### Escreva um programa que verifique se uma lista está vazia ou não\n",
    "\n",
    "1. Criar lista\n",
    "2. Criar estrutura condicional para verificar lista"
   ]
  },
  {
   "cell_type": "code",
   "execution_count": 31,
   "metadata": {},
   "outputs": [
    {
     "name": "stdout",
     "output_type": "stream",
     "text": [
      "A lista está vazia.\n"
     ]
    }
   ],
   "source": [
    "# Criando lista\n",
    "lista = []\n",
    "\n",
    "# Estrutura condicional que verificar se a lista está vazia\n",
    "if not lista:\n",
    "    print(\"A lista está vazia.\")\n",
    "else:\n",
    "    print(\"A Lista contém elementos.\")"
   ]
  },
  {
   "attachments": {},
   "cell_type": "markdown",
   "metadata": {},
   "source": [
    "### Escreva um programa que clone ou copie uma lista\n",
    "\n",
    "1. Criar lista com elementos\n",
    "2. Criar lista vazia para clonar lista com elementos\n",
    "3. Exibir na tela ambas as listas"
   ]
  },
  {
   "cell_type": "code",
   "execution_count": 33,
   "metadata": {},
   "outputs": [
    {
     "name": "stdout",
     "output_type": "stream",
     "text": [
      "Lista original: [1, 2, 3, 4, 5]\n",
      "Lista clone: [1, 2, 3, 4, 5]\n"
     ]
    }
   ],
   "source": [
    "lista = [1, 2, 3, 4, 5]\n",
    "\n",
    "# Criando lista e copiando a lista original\n",
    "listaClone = lista.copy()\n",
    "\n",
    "# Utiliznado o método list()\n",
    "listaClone = list(lista)\n",
    "\n",
    "print(f\"Lista original: {lista}\")\n",
    "print(f\"Lista clone: {listaClone}\")"
   ]
  },
  {
   "attachments": {},
   "cell_type": "markdown",
   "metadata": {},
   "source": [
    "### Atividade - Avaliativas"
   ]
  },
  {
   "cell_type": "code",
   "execution_count": 41,
   "metadata": {},
   "outputs": [
    {
     "name": "stdout",
     "output_type": "stream",
     "text": [
      "{2, 5}\n"
     ]
    }
   ],
   "source": [
    "entrada = [(2, 4), (6, 3), (5, 10)]\n",
    "# entrada = [(4, 8), (16, 4)]\n",
    "# entrada = [(1, 2), (3, 6), (6, 12)]\n",
    "\n",
    "\n",
    "saida = set() \n",
    "for x, y in entrada: \n",
    "    if x < y: \n",
    "        saida.add(x) \n",
    "    else: \n",
    "        saida.add(x // y)\n",
    "\n",
    "print(saida)"
   ]
  },
  {
   "cell_type": "code",
   "execution_count": 49,
   "metadata": {},
   "outputs": [
    {
     "data": {
      "text/plain": [
       "5000"
      ]
     },
     "execution_count": 49,
     "metadata": {},
     "output_type": "execute_result"
    }
   ],
   "source": [
    "empregados = { \n",
    "\n",
    "    123: {\"nome\": \"Pedro\", \"salario\": 2000}, \n",
    "\n",
    "    456: {\"nome\": \"Maria\", \"salario\": 5000}, \n",
    "\n",
    "    789: {\"nome\": \"João\", \"salario\": 7000} \n",
    "\n",
    "}\n",
    "\n",
    "empregados[456][\"salario\"]"
   ]
  },
  {
   "cell_type": "code",
   "execution_count": 50,
   "metadata": {},
   "outputs": [
    {
     "name": "stdout",
     "output_type": "stream",
     "text": [
      "[(16, 18, 32), (20, 22, 40), (0, 1, 2), 13, (4, 5, 6), 21]\n"
     ]
    }
   ],
   "source": [
    "result = []\n",
    "entradas = [1, 20, 13, 5, 21, 16]\n",
    " \n",
    "\n",
    "for numero in entradas:\n",
    "\n",
    "    if numero < 10:\n",
    "\n",
    "        result.append((numero - 1, numero, numero + 1))\n",
    "\n",
    "    elif numero % 2 == 0:\n",
    "\n",
    "        result.insert(0, (numero, numero + 2, numero * 2))\n",
    "\n",
    "    else:\n",
    "\n",
    "        result.append(numero)\n",
    "\n",
    "print(result)"
   ]
  },
  {
   "cell_type": "code",
   "execution_count": 51,
   "metadata": {},
   "outputs": [
    {
     "name": "stdout",
     "output_type": "stream",
     "text": [
      "['José', 'Pedro', 'Maria', 'Jonas', 'Julia', 'Lucas', 'Paulo']\n"
     ]
    }
   ],
   "source": [
    "amigos = [\"Jonas\", \"Maria\", \"Pedro\", \"José\"]\n",
    "\n",
    "colegas = [\"Lucas\", \"Julia\", \"Paulo\"]\n",
    "\n",
    " \n",
    "\n",
    "amigos.reverse()\n",
    "\n",
    "colegas.sort()\n",
    "\n",
    " \n",
    "\n",
    "todos = amigos + colegas\n",
    "\n",
    "print(todos)"
   ]
  }
 ],
 "metadata": {
  "kernelspec": {
   "display_name": "Python 3",
   "language": "python",
   "name": "python3"
  },
  "language_info": {
   "codemirror_mode": {
    "name": "ipython",
    "version": 3
   },
   "file_extension": ".py",
   "mimetype": "text/x-python",
   "name": "python",
   "nbconvert_exporter": "python",
   "pygments_lexer": "ipython3",
   "version": "3.11.1"
  },
  "orig_nbformat": 4
 },
 "nbformat": 4,
 "nbformat_minor": 2
}
