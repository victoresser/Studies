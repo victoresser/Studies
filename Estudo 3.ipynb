{
 "cells": [
  {
   "attachments": {},
   "cell_type": "markdown",
   "metadata": {},
   "source": [
    "### Escreva um programa que some todos os itens de uma lista.\n",
    "\n",
    "1. Criar variável para receber valores (dict)\n",
    "2. Criar variável para armazenar quantidade de repetições do loop FOR\n",
    "3. Usar um loop FOR para alimentar nosso dict\n",
    "4. Chamar função para ler_itens() para fazer a soma dos valores no final"
   ]
  },
  {
   "cell_type": "code",
   "execution_count": 1,
   "metadata": {},
   "outputs": [
    {
     "name": "stdout",
     "output_type": "stream",
     "text": [
      "O item adicionado foi: Banana no valor de R$ 13.0\n",
      "O Valor total de todos os itens é R$ 13.00\n"
     ]
    }
   ],
   "source": [
    "def ler_itens():\n",
    "    lst = {}\n",
    "    num_itens = int(input(\"Quantos itens deseja informar? \"))\n",
    "    for i in range(num_itens):\n",
    "        item = input(f\"Informe o {i+1}º Item: \")\n",
    "        valor = float(input(f\"Informe o preço do item {i+1}: \"))\n",
    "        lst[item] = valor\n",
    "        print(f\"O item adicionado foi: {item} no valor de R$ {valor}\")\n",
    "    return lst\n",
    "\n",
    "lst_valores = ler_itens()\n",
    "soma = sum(lst_valores.values())\n",
    "print(f\"O Valor total de todos os itens é R$ {soma:.2f}\")\n"
   ]
  },
  {
   "attachments": {},
   "cell_type": "markdown",
   "metadata": {},
   "source": [
    "### Escreva um programa que multiplique todos os itnes de uma lista\n",
    "\n",
    "1. Criar variável para receber valores (dict)\n",
    "2. Criar variável para armazenar quantidade de repetições do loop FOR\n",
    "3. Usar um loop FOR para alimentar nosso dict\n",
    "4. Chamar função que lê as informações e faz a multiplicação dos valores"
   ]
  },
  {
   "cell_type": "code",
   "execution_count": 3,
   "metadata": {},
   "outputs": [
    {
     "name": "stdout",
     "output_type": "stream",
     "text": [
      "O item adicionado foi: Banana no valor de R$ 15.00\n",
      "O item adicionado foi: Morango no valor de R$ 12.50\n",
      "O valor total do cálculo é R$ 187.50\n"
     ]
    }
   ],
   "source": [
    "dict = {}\n",
    "numItems = int(input(\"Quantos itens deseja informar?\"))\n",
    "for i in range(numItems):\n",
    "    item = input(f\"Informe o {i+1}º Item:\")\n",
    "    valor = float(input(f\"Informe o preço do item {i+1}: \"))\n",
    "    dict[item] = valor\n",
    "    print(f\"O item adicionado foi: {item} no valor de R$ {valor:.2f}\")\n",
    "\n",
    "resultado = 1\n",
    "for valor in dict.values():\n",
    "    resultado *= valor\n",
    "\n",
    "print(f\"O valor total do cálculo é R$ {resultado:.2f}\")"
   ]
  },
  {
   "attachments": {},
   "cell_type": "markdown",
   "metadata": {},
   "source": [
    "### Escreva um programa que retorne o maior e o menor número de uma lista."
   ]
  },
  {
   "cell_type": "code",
   "execution_count": null,
   "metadata": {},
   "outputs": [],
   "source": []
  }
 ],
 "metadata": {
  "kernelspec": {
   "display_name": "Python 3",
   "language": "python",
   "name": "python3"
  },
  "language_info": {
   "codemirror_mode": {
    "name": "ipython",
    "version": 3
   },
   "file_extension": ".py",
   "mimetype": "text/x-python",
   "name": "python",
   "nbconvert_exporter": "python",
   "pygments_lexer": "ipython3",
   "version": "3.11.1"
  },
  "orig_nbformat": 4
 },
 "nbformat": 4,
 "nbformat_minor": 2
}
