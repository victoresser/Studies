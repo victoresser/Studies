{
 "cells": [
  {
   "attachments": {},
   "cell_type": "markdown",
   "metadata": {},
   "source": [
    "# DB1 Start - Módulo 3\n",
    "\n",
    "### Ciclo de Desenvolvimento\n",
    "\n",
    "### Funções\n",
    "\n",
    "### Programação Orientada a Objetos\n",
    "\n",
    "### UML"
   ]
  },
  {
   "attachments": {},
   "cell_type": "markdown",
   "metadata": {},
   "source": [
    "### Escreva um programa que execute uma função que encontre o maior número de uma lista passada por parâmetro.\n",
    "\n",
    "1. Criar a função com parâmetros\n",
    "2. Dentro da função, retornar maior valor da lista (Parâmetro)\n",
    "3. Chamar a função e imprimir resultado na tela"
   ]
  },
  {
   "cell_type": "code",
   "execution_count": 13,
   "metadata": {},
   "outputs": [
    {
     "name": "stdout",
     "output_type": "stream",
     "text": [
      "O maior número da lista é: 5\n"
     ]
    }
   ],
   "source": [
    "def getMaior(lista):\n",
    "    maior = lista[0]\n",
    "    for i in range(1, len(lista)):\n",
    "        if lista[i] > maior:\n",
    "            maior = lista[i]\n",
    "    return maior\n",
    "\n",
    "lst = [5, 7, 9, 13 , 90, 67]\n",
    "maiorNumero = getMaior(lst)\n",
    "print(f\"O maior número da lista é: {maiorNumero}\")"
   ]
  }
 ],
 "metadata": {
  "kernelspec": {
   "display_name": "Python 3",
   "language": "python",
   "name": "python3"
  },
  "language_info": {
   "codemirror_mode": {
    "name": "ipython",
    "version": 3
   },
   "file_extension": ".py",
   "mimetype": "text/x-python",
   "name": "python",
   "nbconvert_exporter": "python",
   "pygments_lexer": "ipython3",
   "version": "3.10.10"
  },
  "orig_nbformat": 4
 },
 "nbformat": 4,
 "nbformat_minor": 2
}
