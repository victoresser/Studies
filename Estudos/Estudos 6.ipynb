{
 "cells": [
  {
   "attachments": {},
   "cell_type": "markdown",
   "metadata": {},
   "source": [
    "# Classes"
   ]
  },
  {
   "cell_type": "code",
   "execution_count": null,
   "metadata": {},
   "outputs": [],
   "source": [
    "\n",
    "# Na sua sintaxe mais elementar definimos uma classe conforme abaixo:\n",
    "class nomeClasse:\n",
    "    pass\n",
    "\n",
    "# um método(função) como:\n",
    "def metodo(args):\n",
    "    pass\n",
    "\n",
    "# Onde 'args' são argumentos opcionais (parâmetros de entrada). A função metodo pode retornar um valor de saída:\n",
    "def metodo2(args):\n",
    "\n",
    "    return args\n",
    "\n",
    "# Juntando os dois temos:\n",
    "class nomeClasse2:\n",
    "\n",
    "    def metodo3(self, args):\n",
    "        pass"
   ]
  },
  {
   "cell_type": "code",
   "execution_count": 1,
   "metadata": {},
   "outputs": [
    {
     "name": "stdout",
     "output_type": "stream",
     "text": [
      "Regis\n",
      "Fabio\n"
     ]
    }
   ],
   "source": [
    "# Exemplo 0 - Pessoa\n",
    "\n",
    "class Pessoa:\n",
    "\n",
    "    def __init__(self, nome):\n",
    "        self.nome = nome\n",
    "\n",
    "    def __str__(self):\n",
    "\n",
    "        return self.nome\n",
    "\n",
    "regis = Pessoa('Regis')\n",
    "print(regis)\n",
    "fabio = Pessoa('Fabio')\n",
    "print(fabio)"
   ]
  },
  {
   "cell_type": "code",
   "execution_count": 19,
   "metadata": {},
   "outputs": [
    {
     "name": "stdout",
     "output_type": "stream",
     "text": [
      "Soma: 130\n",
      "Divisão: 64.0\n",
      "Subtração: 126\n",
      "Multiplicação: 256\n"
     ]
    }
   ],
   "source": [
    "from classes import Calculadora\n",
    "\n",
    "\n",
    "c = Calculadora(128, 2)\n",
    "print(f\"Soma: {c.soma()}\")\n",
    "print(f\"Divisão: {c.divisao()}\")\n",
    "print(f\"Subtração: {c.subtracao()}\")\n",
    "print(f\"Multiplicação: {c.multiplicacao()}\")"
   ]
  },
  {
   "cell_type": "code",
   "execution_count": 23,
   "metadata": {},
   "outputs": [
    {
     "ename": "ImportError",
     "evalue": "cannot import name 'User' from 'classes' (c:\\Users\\victor\\Documents\\GitHub\\Studies\\Estudos\\classes.py)",
     "output_type": "error",
     "traceback": [
      "\u001b[1;31m---------------------------------------------------------------------------\u001b[0m",
      "\u001b[1;31mImportError\u001b[0m                               Traceback (most recent call last)",
      "\u001b[1;32mc:\\Users\\victor\\Documents\\GitHub\\Studies\\Estudos\\Estudos 6.ipynb Cell 5\u001b[0m in \u001b[0;36m<cell line: 1>\u001b[1;34m()\u001b[0m\n\u001b[1;32m----> <a href='vscode-notebook-cell:/c%3A/Users/victor/Documents/GitHub/Studies/Estudos/Estudos%206.ipynb#X10sZmlsZQ%3D%3D?line=0'>1</a>\u001b[0m \u001b[39mfrom\u001b[39;00m \u001b[39mclasses\u001b[39;00m \u001b[39mimport\u001b[39;00m User\n\u001b[0;32m      <a href='vscode-notebook-cell:/c%3A/Users/victor/Documents/GitHub/Studies/Estudos/Estudos%206.ipynb#X10sZmlsZQ%3D%3D?line=3'>4</a>\u001b[0m u1 \u001b[39m=\u001b[39m User(\u001b[39m'\u001b[39m\u001b[39mRegis\u001b[39m\u001b[39m'\u001b[39m, \u001b[39m35\u001b[39m)\n\u001b[0;32m      <a href='vscode-notebook-cell:/c%3A/Users/victor/Documents/GitHub/Studies/Estudos/Estudos%206.ipynb#X10sZmlsZQ%3D%3D?line=4'>5</a>\u001b[0m u1\u001b[39m.\u001b[39msave()\n",
      "\u001b[1;31mImportError\u001b[0m: cannot import name 'User' from 'classes' (c:\\Users\\victor\\Documents\\GitHub\\Studies\\Estudos\\classes.py)"
     ]
    }
   ],
   "source": [
    "from classes import User\n",
    "\n",
    "\n",
    "if __name__ == '__main__':\n",
    "    u1 = User('Regis', 35)\n",
    "    u1.save()\n",
    "    u2 = User('Fabio', 20)\n",
    "    u2.save()\n",
    "    print(User.all())"
   ]
  },
  {
   "attachments": {},
   "cell_type": "markdown",
   "metadata": {},
   "source": [
    "### Escreva uma Classe em Python para converter um número inteiro em um numeral romano\n",
    "\n",
    "1. Criar classe\n",
    "2. Converter números inteiros em números romanos"
   ]
  },
  {
   "cell_type": "code",
   "execution_count": 6,
   "metadata": {},
   "outputs": [
    {
     "ename": "TypeError",
     "evalue": "RomanNumeralConverter.convert() missing 1 required positional argument: 'num'",
     "output_type": "error",
     "traceback": [
      "\u001b[1;31m---------------------------------------------------------------------------\u001b[0m",
      "\u001b[1;31mTypeError\u001b[0m                                 Traceback (most recent call last)",
      "Cell \u001b[1;32mIn[6], line 4\u001b[0m\n\u001b[0;32m      1\u001b[0m \u001b[39mfrom\u001b[39;00m \u001b[39mclasses\u001b[39;00m \u001b[39mimport\u001b[39;00m RomanNumeralConverter\n\u001b[0;32m      3\u001b[0m rnc \u001b[39m=\u001b[39m RomanNumeralConverter\n\u001b[1;32m----> 4\u001b[0m rnc\u001b[39m.\u001b[39;49mconvert(\u001b[39m2000\u001b[39;49m)\n",
      "\u001b[1;31mTypeError\u001b[0m: RomanNumeralConverter.convert() missing 1 required positional argument: 'num'"
     ]
    }
   ],
   "source": [
    "from classes import RomanNumeralConverter\n",
    "\n",
    "rnc = RomanNumeralConverter\n",
    "rnc.convert(2000)"
   ]
  },
  {
   "cell_type": "code",
   "execution_count": 10,
   "metadata": {},
   "outputs": [
    {
     "name": "stdout",
     "output_type": "stream",
     "text": [
      "[Titulo]: Bom dia\n",
      "[Conteúdo]: Bom dia amigos!\n",
      "\n",
      "[Video]: <http://youtube.com>\n",
      "[Titulo]: Bom dia\n",
      "[Conteúdo]: Bom dia família!\n",
      "\n"
     ]
    }
   ],
   "source": [
    "class Post:\n",
    "    def __init__(self, titulo, conteudo):\n",
    "        self.titulo = titulo\n",
    "        self.conteudo = conteudo\n",
    "\n",
    "    def exibir(self):\n",
    "        return f\"[Titulo]: {self.titulo}\\n[Conteúdo]: {self.conteudo}\\n\"\n",
    "\n",
    "class PostComVideo(Post):\n",
    "    def __init__(self, titulo, conteudo, link_video):\n",
    "        super().__init__(titulo, conteudo)\n",
    "        self.link_video = link_video\n",
    "\n",
    "    def exibir(self):\n",
    "        return f\"[Video]: {self.link_video}\\n[Titulo]: {self.titulo}\\n[Conteúdo]: {self.conteudo}\\n\"\n",
    "\n",
    "post_simples = Post('Bom dia', 'Bom dia amigos!')\n",
    "post_video = PostComVideo('Bom dia', 'Bom dia família!', '<http://youtube.com>')\n",
    "print(post_simples.exibir())\n",
    "print(post_video.exibir())\n"
   ]
  },
  {
   "cell_type": "code",
   "execution_count": 11,
   "metadata": {},
   "outputs": [
    {
     "name": "stdout",
     "output_type": "stream",
     "text": [
      "O salário de Vendedor A é 4000\n",
      "O salário de Vendedor B é 6250.0\n"
     ]
    }
   ],
   "source": [
    "from enum import Enum \n",
    "\n",
    " \n",
    "\n",
    " \n",
    "\n",
    "class Setor(Enum): \n",
    "\n",
    "    ELETRODOMESTICOS = 'ELETRODOMESTICOS' \n",
    "\n",
    "    ELETRONICOS = 'ELETRONICOS' \n",
    "\n",
    "    VESTUARIO = 'VESTUARIO' \n",
    "\n",
    " \n",
    "\n",
    " \n",
    "\n",
    "class Vendedor: \n",
    "\n",
    "    __salarios = { \n",
    "\n",
    "        Setor.ELETRODOMESTICOS: 5000, \n",
    "\n",
    "        Setor.ELETRONICOS: 7000, \n",
    "\n",
    "        Setor.VESTUARIO: 4000, \n",
    "\n",
    "    } \n",
    "\n",
    " \n",
    "\n",
    "    def __init__(self, nome: str, setor: Setor): \n",
    "\n",
    "        self.nome = nome \n",
    "\n",
    "        self.setor = setor \n",
    "\n",
    " \n",
    "\n",
    "    def obter_salario(self) -> float: \n",
    "\n",
    "        return self.__salarios[self.setor] \n",
    "\n",
    " \n",
    "\n",
    " \n",
    "\n",
    "class VendedorComissionado(Vendedor): \n",
    "\n",
    " \n",
    "\n",
    "    def __init__(self, nome: str, setor: Setor): \n",
    "\n",
    "        super().__init__(nome, setor) \n",
    "\n",
    "        self.__vendas = 0 \n",
    "\n",
    " \n",
    "\n",
    "    def registrar_venda(self, valor: float): \n",
    "\n",
    "        self.__vendas += valor\n",
    "\n",
    " \n",
    "\n",
    "    def obter_salario(self) -> float: \n",
    "\n",
    "        salario_base = super().obter_salario() \n",
    "\n",
    "        return salario_base + self.obter_comissao() \n",
    "\n",
    " \n",
    "\n",
    "    def obter_comissao(self) -> float: \n",
    "\n",
    "        return self.__vendas * 0.05\n",
    "    \n",
    "\n",
    "def exibir_salario(vendedor: Vendedor): \n",
    "\n",
    "    print(f\"O salário de {vendedor.nome} é {vendedor.obter_salario()}\") \n",
    "\n",
    " \n",
    " \n",
    "vendedor_a = Vendedor('Vendedor A', Setor.VESTUARIO) \n",
    "\n",
    "vendedor_b = VendedorComissionado('Vendedor B', Setor.ELETRODOMESTICOS) \n",
    "\n",
    "vendedor_b.registrar_venda(25000)\n",
    " \n",
    "exibir_salario(vendedor_a) \n",
    "exibir_salario(vendedor_b)"
   ]
  }
 ],
 "metadata": {
  "kernelspec": {
   "display_name": "Python 3",
   "language": "python",
   "name": "python3"
  },
  "language_info": {
   "codemirror_mode": {
    "name": "ipython",
    "version": 3
   },
   "file_extension": ".py",
   "mimetype": "text/x-python",
   "name": "python",
   "nbconvert_exporter": "python",
   "pygments_lexer": "ipython3",
   "version": "3.11.1"
  },
  "orig_nbformat": 4
 },
 "nbformat": 4,
 "nbformat_minor": 2
}
