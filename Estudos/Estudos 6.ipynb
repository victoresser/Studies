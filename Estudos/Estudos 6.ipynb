{
 "cells": [
  {
   "attachments": {},
   "cell_type": "markdown",
   "metadata": {},
   "source": [
    "# Classes"
   ]
  },
  {
   "cell_type": "code",
   "execution_count": null,
   "metadata": {},
   "outputs": [],
   "source": [
    "\n",
    "# Na sua sintaxe mais elementar definimos uma classe conforme abaixo:\n",
    "class nomeClasse:\n",
    "    pass\n",
    "\n",
    "# um método(função) como:\n",
    "def metodo(args):\n",
    "    pass\n",
    "\n",
    "# Onde 'args' são argumentos opcionais (parâmetros de entrada). A função metodo pode retornar um valor de saída:\n",
    "def metodo2(args):\n",
    "\n",
    "    return args\n",
    "\n",
    "# Juntando os dois temos:\n",
    "class nomeClasse2:\n",
    "\n",
    "    def metodo3(self, args):\n",
    "        pass"
   ]
  },
  {
   "cell_type": "code",
   "execution_count": 1,
   "metadata": {},
   "outputs": [
    {
     "name": "stdout",
     "output_type": "stream",
     "text": [
      "Regis\n",
      "Fabio\n"
     ]
    }
   ],
   "source": [
    "# Exemplo 0 - Pessoa\n",
    "\n",
    "class Pessoa:\n",
    "\n",
    "    def __init__(self, nome):\n",
    "        self.nome = nome\n",
    "\n",
    "    def __str__(self):\n",
    "\n",
    "        return self.nome\n",
    "\n",
    "regis = Pessoa('Regis')\n",
    "print(regis)\n",
    "fabio = Pessoa('Fabio')\n",
    "print(fabio)"
   ]
  },
  {
   "cell_type": "code",
   "execution_count": 19,
   "metadata": {},
   "outputs": [
    {
     "name": "stdout",
     "output_type": "stream",
     "text": [
      "Soma: 130\n",
      "Divisão: 64.0\n",
      "Subtração: 126\n",
      "Multiplicação: 256\n"
     ]
    }
   ],
   "source": [
    "from classes import Calculadora\n",
    "\n",
    "\n",
    "c = Calculadora(128, 2)\n",
    "print(f\"Soma: {c.soma()}\")\n",
    "print(f\"Divisão: {c.divisao()}\")\n",
    "print(f\"Subtração: {c.subtracao()}\")\n",
    "print(f\"Multiplicação: {c.multiplicacao()}\")"
   ]
  },
  {
   "cell_type": "code",
   "execution_count": 23,
   "metadata": {},
   "outputs": [
    {
     "ename": "ImportError",
     "evalue": "cannot import name 'User' from 'classes' (c:\\Users\\victor\\Documents\\GitHub\\Studies\\Estudos\\classes.py)",
     "output_type": "error",
     "traceback": [
      "\u001b[1;31m---------------------------------------------------------------------------\u001b[0m",
      "\u001b[1;31mImportError\u001b[0m                               Traceback (most recent call last)",
      "\u001b[1;32mc:\\Users\\victor\\Documents\\GitHub\\Studies\\Estudos\\Estudos 6.ipynb Cell 5\u001b[0m in \u001b[0;36m<cell line: 1>\u001b[1;34m()\u001b[0m\n\u001b[1;32m----> <a href='vscode-notebook-cell:/c%3A/Users/victor/Documents/GitHub/Studies/Estudos/Estudos%206.ipynb#X10sZmlsZQ%3D%3D?line=0'>1</a>\u001b[0m \u001b[39mfrom\u001b[39;00m \u001b[39mclasses\u001b[39;00m \u001b[39mimport\u001b[39;00m User\n\u001b[0;32m      <a href='vscode-notebook-cell:/c%3A/Users/victor/Documents/GitHub/Studies/Estudos/Estudos%206.ipynb#X10sZmlsZQ%3D%3D?line=3'>4</a>\u001b[0m u1 \u001b[39m=\u001b[39m User(\u001b[39m'\u001b[39m\u001b[39mRegis\u001b[39m\u001b[39m'\u001b[39m, \u001b[39m35\u001b[39m)\n\u001b[0;32m      <a href='vscode-notebook-cell:/c%3A/Users/victor/Documents/GitHub/Studies/Estudos/Estudos%206.ipynb#X10sZmlsZQ%3D%3D?line=4'>5</a>\u001b[0m u1\u001b[39m.\u001b[39msave()\n",
      "\u001b[1;31mImportError\u001b[0m: cannot import name 'User' from 'classes' (c:\\Users\\victor\\Documents\\GitHub\\Studies\\Estudos\\classes.py)"
     ]
    }
   ],
   "source": [
    "from classes import User\n",
    "\n",
    "\n",
    "if __name__ == '__main__':\n",
    "    u1 = User('Regis', 35)\n",
    "    u1.save()\n",
    "    u2 = User('Fabio', 20)\n",
    "    u2.save()\n",
    "    print(User.all())"
   ]
  },
  {
   "cell_type": "code",
   "execution_count": null,
   "metadata": {},
   "outputs": [],
   "source": []
  }
 ],
 "metadata": {
  "kernelspec": {
   "display_name": "Python 3",
   "language": "python",
   "name": "python3"
  },
  "language_info": {
   "codemirror_mode": {
    "name": "ipython",
    "version": 3
   },
   "file_extension": ".py",
   "mimetype": "text/x-python",
   "name": "python",
   "nbconvert_exporter": "python",
   "pygments_lexer": "ipython3",
   "version": "3.10.11"
  },
  "orig_nbformat": 4
 },
 "nbformat": 4,
 "nbformat_minor": 2
}
