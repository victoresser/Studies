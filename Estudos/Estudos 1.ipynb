{
 "cells": [
  {
   "cell_type": "code",
   "execution_count": 1,
   "metadata": {},
   "outputs": [
    {
     "name": "stdout",
     "output_type": "stream",
     "text": [
      "Hello World!\n"
     ]
    }
   ],
   "source": [
    "# 1. Programa que retorna \"Alo mundo\"\n",
    "\n",
    "saudacao = 'Hello World!'\n",
    "print(saudacao)"
   ]
  },
  {
   "cell_type": "code",
   "execution_count": 3,
   "metadata": {},
   "outputs": [
    {
     "name": "stdout",
     "output_type": "stream",
     "text": [
      "O número informado é 12\n"
     ]
    }
   ],
   "source": [
    "# 2. Faça um programa que peça um número e então mostre a mensagem O númeor informado foi [numero]\n",
    "\n",
    "n = int(input(\"Qual é o número?\"))\n",
    "\n",
    "print(\"O número informado é\", n)"
   ]
  },
  {
   "cell_type": "code",
   "execution_count": 5,
   "metadata": {},
   "outputs": [
    {
     "name": "stdout",
     "output_type": "stream",
     "text": [
      "O primeiro número informado foi: 12\n",
      "O segundo número informado foi: 34\n",
      "A soma dos números é: 46\n"
     ]
    }
   ],
   "source": [
    "# 3. Faça um programa que peça dois números e imprima a soma\n",
    "\n",
    "n1 = int(input(\"Qual é o primeiro número?\"))\n",
    "n2 = int(input(\"Qual é o primeiro número?\"))\n",
    "\n",
    "print(\"O primeiro número informado foi:\", n1)\n",
    "print(\"O segundo número informado foi:\", n2)\n",
    "print(\"A soma dos números é:\", n1 + n2)"
   ]
  },
  {
   "cell_type": "code",
   "execution_count": 9,
   "metadata": {},
   "outputs": [
    {
     "name": "stdout",
     "output_type": "stream",
     "text": [
      "A média das 4 notas é: 6.5\n"
     ]
    }
   ],
   "source": [
    "# 4. Faça um programa que peça as 4 notas bimestrais e mostre a média\n",
    "\n",
    "n1 = int(input(\"Qual é a nota do primeiro bimestre?\"))\n",
    "n2 = int(input(\"Qual é a nota do segundo bimestre?\"))\n",
    "n3 = int(input(\"Qual é a nota do terceiro bimestre?\"))\n",
    "n4 = int(input(\"Qual é a nota do quarto bimestre?\"))\n",
    "\n",
    "print(\"A média das 4 notas é:\", (n1 + n2 + n3 + n4) / 4)"
   ]
  },
  {
   "cell_type": "code",
   "execution_count": 1,
   "metadata": {},
   "outputs": [
    {
     "name": "stdout",
     "output_type": "stream",
     "text": [
      "Você inseriu: 15 Metros\n",
      "Ao converter esse valor, obtivemos isto: 1500 Centímetros\n"
     ]
    }
   ],
   "source": [
    "# 5. Faça um programa que converta metros para centímetros\n",
    "\n",
    "metros = int(input(\"Quantos metros deseja converter em centímetros?\"))\n",
    "\n",
    "print(\"Você inseriu:\", metros,\"Metros\")\n",
    "print(\"Ao converter esse valor, obtivemos isto:\", metros*100, \"Centímetros\")"
   ]
  },
  {
   "cell_type": "code",
   "execution_count": 8,
   "metadata": {},
   "outputs": [
    {
     "name": "stdout",
     "output_type": "stream",
     "text": [
      "A área do círculo é: 706.85775\n"
     ]
    }
   ],
   "source": [
    "# 6. Faça um programa que peça o raio de um círculo, calcule e mostre sua área\n",
    "\n",
    "raio = float(input('Qual é o raio do círculo? '))\n",
    "area = 3.14159 * (raio ** 2)\n",
    "print('A área do círculo é:', area)\n"
   ]
  },
  {
   "cell_type": "code",
   "execution_count": 10,
   "metadata": {},
   "outputs": [
    {
     "name": "stdout",
     "output_type": "stream",
     "text": [
      "O comprimento do quadrado é: 25.0\n",
      "A altura do quadrado é: 15.0\n",
      "A área do quadrado é: 375.0\n",
      "E o dobro da área é: 750.0\n"
     ]
    }
   ],
   "source": [
    "# 7. Faça um programa que calcule a área de um quadrado, em seguida mostre o dobro desta área para o usuário.\n",
    "\n",
    "# Declarando variáveis para cálcualar a área do quadrado\n",
    "\n",
    "lado1 = float(input(\"Qual é o comprimento do quadrado?\"))\n",
    "lado2 = float(input(\"Qual é a altura do quadrado?\"))\n",
    "area = lado1 * lado2\n",
    "\n",
    "print(\"O comprimento do quadrado é:\", lado1)\n",
    "print(\"A altura do quadrado é:\", lado2)\n",
    "print(\"A área do quadrado é:\", area)\n",
    "print(\"E o dobro da área é:\", area * 2)\n"
   ]
  },
  {
   "attachments": {},
   "cell_type": "markdown",
   "metadata": {},
   "source": [
    "# Atividades - Variáveis"
   ]
  },
  {
   "cell_type": "code",
   "execution_count": 15,
   "metadata": {},
   "outputs": [
    {
     "name": "stdout",
     "output_type": "stream",
     "text": [
      "A temperatura em F é: 59.0\n"
     ]
    }
   ],
   "source": [
    "# 1. Considere o seguinte trecho do código:\n",
    "\n",
    "tempC = float(input('Informe a temperatura em C:'))\n",
    "\n",
    "tempF = tempC * 1.8 + 32\n",
    "\n",
    "print(f'A temperatura em C é: {tempC:.1f}')\n",
    "print(f'A temperatura em F é: {tempF:.1f}')"
   ]
  },
  {
   "cell_type": "code",
   "execution_count": 2,
   "metadata": {},
   "outputs": [
    {
     "name": "stdout",
     "output_type": "stream",
     "text": [
      "Serão necessários 206.2l de combustível.\n"
     ]
    }
   ],
   "source": [
    "# 2. Escreva um algoritmo que permita o cálculo de quanto combustível será necessário para uma viagem de carro. Para este cálculo, \n",
    "# o algoritmo deve receber como entrada o tempo de viagem (Em horas) e a velocidade média do veículo\n",
    "# (em km/h), e deve-se considerar que o carro possui um consumo de 8km/l.\n",
    "\n",
    "velocidade = int(input(\"Informe a velocidade média: \"))\n",
    "tempo = int(input(\"Informe o tempo da viagem: \"))\n",
    "distancia = velocidade * tempo\n",
    "consumo = distancia / 8\n",
    "\n",
    "print(f\"Serão necessários {consumo:.1f}l de combustível.\")"
   ]
  },
  {
   "cell_type": "code",
   "execution_count": 2,
   "metadata": {},
   "outputs": [
    {
     "name": "stdout",
     "output_type": "stream",
     "text": [
      "O total em doações será R$ 13000.00\n"
     ]
    }
   ],
   "source": [
    "media_doacoes = float(input(\"Informe a média de doações dos últimos 3 anos:\"))\n",
    "doacoes_atual = float(input(\"Informe o total de doações deste ano: \"))\n",
    "total = doacoes_atual * 2\n",
    "\n",
    "if doacoes_atual > media_doacoes:\n",
    "    excedente = doacoes_atual - media_doacoes\n",
    "    total += excedente * 3\n",
    "    print(f\"O total em doações será R$ {total:.2f}\")"
   ]
  },
  {
   "cell_type": "code",
   "execution_count": 7,
   "metadata": {},
   "outputs": [
    {
     "name": "stdout",
     "output_type": "stream",
     "text": [
      "C\n"
     ]
    }
   ],
   "source": [
    "x = 3\n",
    "y = 13\n",
    "z = 8\n",
    "\n",
    "\n",
    "\n",
    "if x > y ** 2 or z < 0:\n",
    "    print('A')  \n",
    "elif z != y and x % 2 == 0:  \n",
    "    print('B')  \n",
    "elif z > x and y // x > 3:  \n",
    "    print('C')  \n",
    "else:  \n",
    "    print('D')"
   ]
  },
  {
   "cell_type": "code",
   "execution_count": 8,
   "metadata": {},
   "outputs": [
    {
     "name": "stdout",
     "output_type": "stream",
     "text": [
      "x -> 20\n",
      "y -> 15\n"
     ]
    }
   ],
   "source": [
    "x = 20\n",
    "y = 15\n",
    "if y < x > 15:\n",
    "    print(f\"x -> {x}\")\n",
    "if y != 20:\n",
    "    print(f\"y -> {y}\")"
   ]
  },
  {
   "cell_type": "markdown",
   "metadata": {},
   "source": []
  }
 ],
 "metadata": {
  "kernelspec": {
   "display_name": "Python 3",
   "language": "python",
   "name": "python3"
  },
  "language_info": {
   "codemirror_mode": {
    "name": "ipython",
    "version": 3
   },
   "file_extension": ".py",
   "mimetype": "text/x-python",
   "name": "python",
   "nbconvert_exporter": "python",
   "pygments_lexer": "ipython3",
   "version": "3.11.1"
  },
  "orig_nbformat": 4,
  "vscode": {
   "interpreter": {
    "hash": "4baa28d5ee9017d52c2e74d800df66c9b8053400849f0ce1e06865dac598abcd"
   }
  }
 },
 "nbformat": 4,
 "nbformat_minor": 2
}
