{
 "cells": [
  {
   "attachments": {},
   "cell_type": "markdown",
   "metadata": {},
   "source": [
    "# DB1 Start - Módulo 3\n",
    "\n",
    "### Ciclo de Desenvolvimento\n",
    "\n",
    "### Funções\n",
    "\n",
    "### Programação Orientada a Objetos\n",
    "\n",
    "### UML"
   ]
  },
  {
   "attachments": {},
   "cell_type": "markdown",
   "metadata": {},
   "source": [
    "# Funções\n",
    "### Escreva um programa que execute uma função que encontre o maior número de uma lista passada por parâmetro.\n",
    "\n",
    "1. Criar a função com parâmetros\n",
    "2. Dentro da função, retornar maior valor da lista (Parâmetro)\n",
    "3. Chamar a função e imprimir resultado na tela"
   ]
  },
  {
   "cell_type": "code",
   "execution_count": 1,
   "metadata": {},
   "outputs": [
    {
     "name": "stdout",
     "output_type": "stream",
     "text": [
      "O maior número da lista é: 90\n"
     ]
    }
   ],
   "source": [
    "def getMaior(lista):\n",
    "    maior = lista[0]\n",
    "    for i in range(1, len(lista)):\n",
    "        if lista[i] > maior:\n",
    "            maior = lista[i]\n",
    "    return maior\n",
    "\n",
    "lst = [5, 7, 9, 13 , 90, 67]\n",
    "maiorNumero = getMaior(lst)\n",
    "print(f\"O maior número da lista é: {maiorNumero}\")"
   ]
  },
  {
   "attachments": {},
   "cell_type": "markdown",
   "metadata": {},
   "source": [
    "### Escreva um programa que execute uma função que some todos os itens de uma lista passada por parâmetro.\n",
    "\n",
    "1. Criar função 'getSoma'\n",
    "2. Criar lista para ser fornecida como parâmetro\n",
    "3. Exibir resultado na tela"
   ]
  },
  {
   "cell_type": "code",
   "execution_count": 7,
   "metadata": {},
   "outputs": [
    {
     "name": "stdout",
     "output_type": "stream",
     "text": [
      "A soma da lista é: 41\n"
     ]
    },
    {
     "data": {
      "text/plain": [
       "41"
      ]
     },
     "execution_count": 7,
     "metadata": {},
     "output_type": "execute_result"
    }
   ],
   "source": [
    "# Criando função que soma valores\n",
    "def getSoma(lista):\n",
    "    soma = sum(lista)\n",
    "    print(f\"A soma da lista é: {soma}\")\n",
    "\n",
    "# Criando lista e chamando função para somar valores\n",
    "lista = [7, 3, 9, 10, 12]\n",
    "getSoma(lista)"
   ]
  },
  {
   "attachments": {},
   "cell_type": "markdown",
   "metadata": {},
   "source": [
    "### Escreva um programa que execute uma função que multiplique todos os números de uma lista passada por parâmetro\n",
    "\n",
    "1. Criar função 'getMulti'\n",
    "2. Criar lista para ser fornecida como parâmetro\n",
    "3. Criar código para multiplicar lista"
   ]
  },
  {
   "cell_type": "code",
   "execution_count": 11,
   "metadata": {},
   "outputs": [
    {
     "name": "stdout",
     "output_type": "stream",
     "text": [
      "O resultado da multiplicação dos valores da lista é: 120\n"
     ]
    }
   ],
   "source": [
    "# Criando função que multiplica valores\n",
    "def getMulti(lista):\n",
    "    result = 1\n",
    "    for i in lista:\n",
    "        result *= i\n",
    "    return result\n",
    "\n",
    "# Criando lista e multiplicando valores\n",
    "lista = [2, 3, 4, 5]\n",
    "resultado = getMulti(lista)\n",
    "print(f\"O resultado da multiplicação dos valores da lista é: {resultado}\")"
   ]
  },
  {
   "attachments": {},
   "cell_type": "markdown",
   "metadata": {},
   "source": [
    "### Escreva um programa que execute uma função que retorne o inverso de uma string passada por parâmetro.\n",
    "\n",
    "1. Criar função 'getInverso'\n",
    "2. Criar variável que receba string e sirva de parâmetro para função\n",
    "3. Chamar função e retornar resultado da tela"
   ]
  },
  {
   "cell_type": "code",
   "execution_count": 2,
   "metadata": {},
   "outputs": [
    {
     "name": "stdout",
     "output_type": "stream",
     "text": [
      "Quando a string inserida é invertida 'Hello, World!', fica assim: !dlroW ,olleH\n"
     ]
    }
   ],
   "source": [
    "def getStringInversa(string):\n",
    "    # Utilizando o operados de slicing para inverter a string\n",
    "    return string[::-1]\n",
    "\n",
    "# Exemplo de utilização da função\n",
    "minha_string = \"Hello, World!\"\n",
    "stringInversa = getStringInversa(minha_string)\n",
    "print(f\"Quando a string inserida é invertida '{minha_string}', fica assim: {stringInversa}\")"
   ]
  },
  {
   "attachments": {},
   "cell_type": "markdown",
   "metadata": {},
   "source": [
    "### Escreva um programa que execute uma função que calcule o fatorial de um número passado por parâmetro.\n",
    "\n",
    "1. Criar função para realizar cálculo\n",
    "2. Criar variável para ser usada como parâmetro\n",
    "3. Exibir resultado na tela"
   ]
  },
  {
   "cell_type": "code",
   "execution_count": 11,
   "metadata": {},
   "outputs": [
    {
     "name": "stdout",
     "output_type": "stream",
     "text": [
      "O fatorial de 3 é: 6\n"
     ]
    }
   ],
   "source": [
    "def getFatorial(n):\n",
    "    if n == 0 or n == 1:\n",
    "        return 1\n",
    "    else:\n",
    "        return n * getFatorial(n-1)\n",
    "\n",
    "num = int(input(\"Digite um número para calcular o fatorial: \"))\n",
    "resultado = getFatorial(num)\n",
    "print(\"O fatorial de\", num, \"é:\", resultado)\n"
   ]
  },
  {
   "attachments": {},
   "cell_type": "markdown",
   "metadata": {},
   "source": [
    "### Escreva um programa que execute uma função que conte o número de letras maiúsculas e minúsculas de um texto e que ao final, chame outra função para imprimir o resultado.\n",
    "\n",
    "1. Criar função para realizar contagem de letras maiúsculas e minúsculas.\n",
    "2. Criar função para imprimir resultados na tela.\n",
    "3. Criar variável para usar como parâmetro.\n",
    "4. Imprimir resultado na tela.\n",
    "\n",
    "{Obs: Se fez necessário definir a função que imprime a tela dentro da primeira função.}"
   ]
  },
  {
   "cell_type": "code",
   "execution_count": 20,
   "metadata": {},
   "outputs": [
    {
     "name": "stdout",
     "output_type": "stream",
     "text": [
      "A String é: 'Exemplo de String para Teste'\n",
      "Quantidade de letras maiúsculas: 3\n",
      "Quantidade de letras minúsculas: 21\n"
     ]
    }
   ],
   "source": [
    "string = \"Exemplo de String para Teste\"\n",
    "\n",
    "# Criando Função para realizar contagem de letras da String\n",
    "def getLetras(str):\n",
    "    count_maiusculas = 0\n",
    "    count_minusculas = 0\n",
    "    for letra in str:\n",
    "        if letra.isalpha(): # Verifica se é uma letra\n",
    "            if letra.isupper(): # Verifica se é maiúscula\n",
    "                count_maiusculas += 1\n",
    "            else:\n",
    "                count_minusculas += 1\n",
    "    # Criando função para imprimir resultado de contagem na tela.\n",
    "    def getResult():\n",
    "        print(f\"A String é: '{string}'\")\n",
    "        print(f\"Quantidade de letras maiúsculas: {count_maiusculas}\")\n",
    "        print(f\"Quantidade de letras minúsculas: {count_minusculas}\")\n",
    "    \n",
    "    getResult()\n",
    "\n",
    "getLetras(string)\n"
   ]
  },
  {
   "attachments": {},
   "cell_type": "markdown",
   "metadata": {},
   "source": [
    "### Escreva um programa Python que execute uma string que contenha um código Python.\n",
    "\n",
    "1. Criar string com código em python para ser executada\n",
    "2. Executar estring e imprimir resultado na tela"
   ]
  },
  {
   "cell_type": "code",
   "execution_count": 33,
   "metadata": {},
   "outputs": [
    {
     "name": "stdout",
     "output_type": "stream",
     "text": [
      "1\n",
      "2\n",
      "3\n",
      "4\n",
      "5\n"
     ]
    }
   ],
   "source": [
    "codigo = \"for i in range (1, 6): print(i)\"\n",
    "\n",
    "exec(codigo)"
   ]
  },
  {
   "attachments": {},
   "cell_type": "markdown",
   "metadata": {},
   "source": [
    "### Escreva um programa que execute uma função que receba um número informado no console como parâmetro e verifique se o número informado é primo ou não.\n",
    "\n",
    "- Nota: Número primo é um número natural, maior que 1 e que não tenha outros divisores além do 1 e dele mesmo.\n",
    "\n",
    "1. Criar função para verificar os números\n",
    "2. Criar variável para servir de parâmetro\n",
    "3. Imprimir resultado na tela\n"
   ]
  },
  {
   "cell_type": "code",
   "execution_count": 35,
   "metadata": {},
   "outputs": [
    {
     "name": "stdout",
     "output_type": "stream",
     "text": [
      "13 é primo\n"
     ]
    }
   ],
   "source": [
    "def eh_primo(numero):\n",
    "    # Verifica se o número é menor ou igual a 1\n",
    "    if numero <= 1:\n",
    "        return False\n",
    "    \n",
    "    # Verifica se o número é igual a 2\n",
    "    if numero == 2:\n",
    "        return True\n",
    "    \n",
    "    # Verifica se o número é divisível por 2\n",
    "    if numero % 2 == 0:\n",
    "        return False\n",
    "    \n",
    "    # Verifica se o número é divisível por algum ímpar até a sua raiz quadrada\n",
    "    limite = int(numero ** 0.5) + 1\n",
    "    for i in range(3, limite, 2):\n",
    "        if numero % i == 0:\n",
    "            return False\n",
    "    \n",
    "    # Se passou por todas as verificações, então é primo\n",
    "    return True\n",
    "\n",
    "\n",
    "# Programa principal\n",
    "numero = int(input(\"Digite um número inteiro: \"))\n",
    "if eh_primo(numero):\n",
    "    print(f\"{numero} é primo\")\n",
    "else:\n",
    "    print(f\"{numero} não é primo\")\n"
   ]
  },
  {
   "attachments": {},
   "cell_type": "markdown",
   "metadata": {},
   "source": [
    "### Escreva um programa que execute uma função que valide se o número informado é um número perfeito ou não\n",
    "\n",
    "- De acordo com a Wikipedia, um número perfeito é um número inteiro, positivo que seja igual à soma de todos os seus divisores positivos excluindo o próprio número. Equivalente a isto, um número perfeito é a metade da soma de todos os seus divisores positivos, incluindo o próprio número\n",
    "\n",
    "1. Criar função para validar número\n",
    "2. Criar variável para ser usada como parâmetro\n",
    "3. Imprimir resultado na tela"
   ]
  },
  {
   "cell_type": "code",
   "execution_count": 13,
   "metadata": {},
   "outputs": [
    {
     "name": "stdout",
     "output_type": "stream",
     "text": [
      "6 é um número perfeito\n"
     ]
    }
   ],
   "source": [
    "def getPerfeito(num):\n",
    "    somaDivisores = 0\n",
    "    for divisor in range(1, num):\n",
    "        if num % divisor == 0:\n",
    "            somaDivisores += divisor\n",
    "    return somaDivisores == num\n",
    "\n",
    "number = int(input(\"Digite um número: \"))\n",
    "if getPerfeito(number):\n",
    "    print(number, \"é um número perfeito\")\n",
    "else:\n",
    "    print(number, \"não é um número perfeito\")\n"
   ]
  },
  {
   "attachments": {},
   "cell_type": "markdown",
   "metadata": {},
   "source": [
    "### Escreva uma função que imprima as primeiras n linhas do triângulo de pascal\n",
    "\n",
    "- Triângulo de pascal é uma figura aritmética e geométrica imaginada por Balise Pascal. Cada número é a soma dos dois números diretamente acima.\n",
    "\n",
    "1. Criar função\n",
    "\n",
    "\n",
    "\n",
    "\n",
    "Explicando o código:\n",
    "\n",
    "- A função pascal_triangle recebe um parâmetro n, que é a quantidade de linhas do triângulo que se deseja imprimir.\n",
    "- A variável triangle é uma lista vazia que será preenchida com as linhas do triângulo.\n",
    "- O primeiro loop for percorre cada linha do triângulo até o número n.\n",
    "- Na primeira linha, é adicionado o número 1 à lista row.\n",
    "- No segundo loop for, que percorre da segunda até a penúltima coluna, é feita a soma dos dois números diretamente acima do elemento atual para encontrar o número da posição atual da lista row. A soma é feita a partir da linha anterior, que já foi calculada e está armazenada em triangle[i-1].\n",
    "- A lista row com os números da linha atual é adicionada à lista triangle.\n",
    "- Por fim, é feito um loop for que imprime cada linha do triângulo. A função join é usada para concatenar os números em cada linha, separando-os por um espaço em branco"
   ]
  },
  {
   "cell_type": "code",
   "execution_count": 18,
   "metadata": {},
   "outputs": [
    {
     "name": "stdout",
     "output_type": "stream",
     "text": [
      "1\n",
      "1 1\n",
      "1 2 1\n",
      "1 3 3 1\n",
      "1 4 6 4 1\n"
     ]
    }
   ],
   "source": [
    "def getTriangulo(n):\n",
    "    triangulo = []\n",
    "    for i in range(n):\n",
    "        row = [1] * (i + 1)\n",
    "        for j in range(1, i):\n",
    "            row[j] = triangulo[i-1][j-1] + triangulo[i-1][j]\n",
    "        triangulo.append(row)\n",
    "    for row in triangulo:\n",
    "        print(' '.join(map(str, row)))\n",
    "\n",
    "n = int(input(f\"Qual é o número que você deseja inserir no triângulo?\"))\n",
    "getTriangulo(n)"
   ]
  },
  {
   "attachments": {},
   "cell_type": "markdown",
   "metadata": {},
   "source": [
    "# Atividades - Avaliatívas"
   ]
  },
  {
   "cell_type": "code",
   "execution_count": 19,
   "metadata": {},
   "outputs": [],
   "source": [
    "def aplicar_desconto(valor, percentual): \n",
    "    resultado = valor * (1 - (percentual / 100)) \n",
    "    return resultado"
   ]
  },
  {
   "cell_type": "code",
   "execution_count": 24,
   "metadata": {},
   "outputs": [
    {
     "data": {
      "text/plain": [
       "28.01022373166206"
      ]
     },
     "execution_count": 24,
     "metadata": {},
     "output_type": "execute_result"
    }
   ],
   "source": [
    "def calcular_imc(peso: float, altura: float) -> float: \n",
    "    imc = peso / (altura ** 2) \n",
    "    return imc"
   ]
  },
  {
   "cell_type": "code",
   "execution_count": 22,
   "metadata": {},
   "outputs": [],
   "source": [
    "def termo_fibonacci(termo): \n",
    "    ultimo = 1 \n",
    "    penultimo = 1 \n",
    "    atual = 1 \n",
    " \n",
    "    for i in range(3, termo + 1): \n",
    "        atual = ultimo + penultimo \n",
    "        penultimo = ultimo \n",
    "        ultimo = atual \n",
    " \n",
    "    return atual\n",
    "\n",
    "\n"
   ]
  }
 ],
 "metadata": {
  "kernelspec": {
   "display_name": "Python 3",
   "language": "python",
   "name": "python3"
  },
  "language_info": {
   "codemirror_mode": {
    "name": "ipython",
    "version": 3
   },
   "file_extension": ".py",
   "mimetype": "text/x-python",
   "name": "python",
   "nbconvert_exporter": "python",
   "pygments_lexer": "ipython3",
   "version": "3.10.10"
  },
  "orig_nbformat": 4
 },
 "nbformat": 4,
 "nbformat_minor": 2
}
